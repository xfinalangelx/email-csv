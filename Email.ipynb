{
  "nbformat": 4,
  "nbformat_minor": 0,
  "metadata": {
    "colab": {
      "name": "Email.ipynb",
      "provenance": [],
      "include_colab_link": true
    },
    "kernelspec": {
      "name": "python3",
      "display_name": "Python 3"
    },
    "language_info": {
      "name": "python"
    }
  },
  "cells": [
    {
      "cell_type": "markdown",
      "metadata": {
        "id": "view-in-github",
        "colab_type": "text"
      },
      "source": [
        "<a href=\"https://colab.research.google.com/github/xfinalangelx/email-csv/blob/main/Email.ipynb\" target=\"_parent\"><img src=\"https://colab.research.google.com/assets/colab-badge.svg\" alt=\"Open In Colab\"/></a>"
      ]
    },
    {
      "cell_type": "code",
      "metadata": {
        "id": "opVfV42u78A7"
      },
      "source": [
        "#script by: Richie (https://github.com/xfinalangelx)\n",
        "#lib import\n",
        "from email.mime.text import MIMEText\n",
        "from email.mime.multipart import MIMEMultipart\n",
        "from email.mime.base import MIMEBase\n",
        "from email import encoders\n",
        "import smtplib\n",
        "import csv"
      ],
      "execution_count": null,
      "outputs": []
    },
    {
      "cell_type": "code",
      "metadata": {
        "id": "UZrFxwep8sx8"
      },
      "source": [
        "print(\"Email: \")\n",
        "email_sender = str(input()) #manual input\n",
        "print(\"Password: \")\n",
        "password = str(input()) #manual input\n",
        "print(\"Subject: \")\n",
        "subject = str(input()) #manual input"
      ],
      "execution_count": null,
      "outputs": []
    },
    {
      "cell_type": "code",
      "metadata": {
        "id": "GSh0RGzF-uDh"
      },
      "source": [
        "with open('/content/sample_data/test.csv','r',encoding='utf-8-sig') as csvfile:\n",
        "  reader = csv.reader(csvfile)\n",
        "  for line in reader:\n",
        "    text = \"hello, \" + line[1] + \" your \" + line[2] + \" test\" #do your input here\n",
        "    email_send = line[0] #depends on col no, line 0 is first col\n",
        "    msg = MIMEMultipart()\n",
        "    msg['From'] = email_sender\n",
        "    msg['To'] = email_send\n",
        "    msg['Subject'] = subject\n",
        "    msg.attach(MIMEText(text, \"plain\"))\n",
        "    text = msg.as_string()\n",
        "\n",
        "    server = smtplib.SMTP_SSL(\"smtp.gmail.com\",465)\n",
        "    server.login(email_sender, password)\n",
        "    server.sendmail(email_sender,email_send, text)\n",
        "    server.quit()"
      ],
      "execution_count": null,
      "outputs": []
    }
  ]
}